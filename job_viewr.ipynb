{
 "cells": [
  {
   "cell_type": "code",
   "execution_count": null,
   "metadata": {},
   "outputs": [],
   "source": [
    "from datetime import datetime\n",
    "from ray.job_submission import JobSubmissionClient\n",
    "import pandas as pd\n",
    "\n",
    "client = JobSubmissionClient(\"http://localhost:8265\")\n",
    "df = pd.DataFrame([i.__dict__ for i in client.list_jobs()])\n",
    "# df = df[df[\"status\"]==\"RUNNING\"]\n",
    "df[\"start_time\"] = df[\"start_time\"].apply(\n",
    "    lambda x: (\n",
    "        datetime.fromtimestamp(x / 1000).strftime(\"%Hh%M %d/%m/%Y\")\n",
    "        if x is not None\n",
    "        else None\n",
    "    )\n",
    ")\n",
    "# df[\"end_time\"] = df[\"end_time\"].apply(lambda x: datetime.fromtimestamp(x/1000) if not np.isnan(x) else x)\n",
    "df[\"who\"] = df.runtime_env.apply(\n",
    "    lambda x: (\n",
    "        x[\"env_vars\"][\"USER\"] if \"env_vars\" in x and \"USER\" in x[\"env_vars\"] else None\n",
    "    )\n",
    ")\n",
    "# df = df.loc[:,['type', 'job_id', 'submiss\n",
    "# ion_id', 'status', 'entrypoint', 'message', 'start_time','end_time','who']]\n",
    "df = df[~df.submission_id.isna()]\n",
    "df = df[df[\"status\"] == \"RUNNING\"]\n",
    "df.reset_index(inplace=True, drop=True)\n",
    "df"
   ]
  },
  {
   "cell_type": "code",
   "execution_count": null,
   "metadata": {},
   "outputs": [],
   "source": [
    "import time\n",
    "from ray.job_submission import JobSubmissionClient, JobStatus\n",
    "from datetime import datetime\n",
    "from mum.utils.generate_runtime_env import generate_runtime_saml\n",
    "\n",
    "runtime_env = generate_runtime_saml(\n",
    "    profile=\"automl\",\n",
    "    to_yaml=False,\n",
    "    workdir=True,\n",
    "    inference_runtime=False,\n",
    "    path_workdir=\"/Users/andresospina/Workspace/mls-mum-project\",\n",
    ")\n",
    "\n",
    "client = JobSubmissionClient(\"http://localhost:8265\")\n",
    "\n",
    "job_id = client.submit_job(\n",
    "    submission_id=\"_\".join([\"download_pandas10M\", datetime.now().strftime(\"%H_%M_%S\")]),\n",
    "    # Entrypoint shell command to execute\n",
    "    entrypoint=f\"python download_pandas70M.py\",\n",
    "    # Path to the local directory that contains the script.py file\n",
    "    runtime_env=runtime_env,\n",
    ")\n",
    "\n"
   ]
  }
 ],
 "metadata": {
  "kernelspec": {
   "display_name": ".venv",
   "language": "python",
   "name": "python3"
  },
  "language_info": {
   "codemirror_mode": {
    "name": "ipython",
    "version": 3
   },
   "file_extension": ".py",
   "mimetype": "text/x-python",
   "name": "python",
   "nbconvert_exporter": "python",
   "pygments_lexer": "ipython3",
   "version": "3.11.9"
  }
 },
 "nbformat": 4,
 "nbformat_minor": 2
}
